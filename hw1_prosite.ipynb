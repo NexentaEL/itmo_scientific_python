{
 "cells": [
  {
   "cell_type": "markdown",
   "metadata": {},
   "source": [
    "Search a pattern of active site (XXXXXX) of isocitrate lyase enzyme and give the answer in the\n",
    "following manner: “Isocitrate lyase (FASTA ID) contains its active site (PROSITE ID) starting from Nth\n",
    "position: zzzXXXXXXzzz”."
   ]
  },
  {
   "cell_type": "code",
   "execution_count": 1,
   "metadata": {},
   "outputs": [
    {
     "name": "stdout",
     "output_type": "stream",
     "text": [
      "Isocitrate lyase (P0A9G6) contains its active site (PS00161) starting from 192 position: asvKKCGHMggk\n"
     ]
    }
   ],
   "source": [
    "import re\n",
    "from urllib.request import urlopen\n",
    "\n",
    "fasta_link = \"https://www.uniprot.org/uniprot/P0A9G6.fasta\"\n",
    "netw_obj = urlopen(fasta_link)\n",
    "\n",
    "fasta_descr = str(netw_obj.readline())\n",
    "fasta_id = fasta_descr.split('|')[1]\n",
    "prosite_id = \"PS00161\"\n",
    "\n",
    "seq = str(netw_obj.read())[2:]\n",
    "seq = seq.replace('\\\\n', '')\n",
    "match = re.search(r'.{3}K[KR]CGH[LMQR].{3}', seq)\n",
    "group = match.group()\n",
    "active_cite = group[:3].lower() + group[3:-3] + group[-3:].lower()\n",
    "\n",
    "print(f\"Isocitrate lyase ({fasta_id}) contains its active site ({prosite_id}) \\\n",
    "starting from {match.start() + 3} position: {active_cite}\")"
   ]
  }
 ],
 "metadata": {
  "kernelspec": {
   "display_name": "Python 3",
   "language": "python",
   "name": "python3"
  },
  "language_info": {
   "codemirror_mode": {
    "name": "ipython",
    "version": 3
   },
   "file_extension": ".py",
   "mimetype": "text/x-python",
   "name": "python",
   "nbconvert_exporter": "python",
   "pygments_lexer": "ipython3",
   "version": "3.7.4"
  }
 },
 "nbformat": 4,
 "nbformat_minor": 2
}
