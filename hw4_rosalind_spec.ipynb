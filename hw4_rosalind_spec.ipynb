{
 "cells": [
  {
   "cell_type": "code",
   "execution_count": 1,
   "metadata": {},
   "outputs": [],
   "source": [
    "mass_table = {'A': 71.03711,  'C': 103.00919, 'D': 115.02694, 'E': 129.04259,\n",
    "              'F': 147.06841, 'G': 57.02146,  'H': 137.05891, 'I': 113.08406,\n",
    "              'K': 128.09496, 'L': 113.08406, 'M': 131.04049, 'N': 114.04293,\n",
    "              'P': 97.05276,  'Q': 128.05858, 'R': 156.10111, 'S': 87.03203,\n",
    "              'T': 101.04768, 'V': 99.06841,  'W': 186.07931, 'Y': 163.06333}"
   ]
  },
  {
   "cell_type": "code",
   "execution_count": 2,
   "metadata": {},
   "outputs": [],
   "source": [
    "def protein_from_spec(spec: list) -> str:\n",
    "    protein = [key for i in range(len(spec) - 1) \n",
    "                   for key,value in mass_table.items() \n",
    "                       if round(value, 4) == round(spec[i + 1] - spec[i], 4)]\n",
    "    return ''.join(protein)"
   ]
  },
  {
   "cell_type": "code",
   "execution_count": 3,
   "metadata": {},
   "outputs": [
    {
     "data": {
      "text/plain": [
       "'WMQS'"
      ]
     },
     "execution_count": 3,
     "metadata": {},
     "output_type": "execute_result"
    }
   ],
   "source": [
    "L = [3524.8542, 3710.9335, 3841.974, 3970.0326, 4057.0646]\n",
    "protein_from_spec(L)"
   ]
  }
 ],
 "metadata": {
  "kernelspec": {
   "display_name": "Python 3",
   "language": "python",
   "name": "python3"
  },
  "language_info": {
   "codemirror_mode": {
    "name": "ipython",
    "version": 3
   },
   "file_extension": ".py",
   "mimetype": "text/x-python",
   "name": "python",
   "nbconvert_exporter": "python",
   "pygments_lexer": "ipython3",
   "version": "3.7.7"
  }
 },
 "nbformat": 4,
 "nbformat_minor": 2
}
