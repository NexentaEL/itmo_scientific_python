{
 "cells": [
  {
   "cell_type": "code",
   "execution_count": 1,
   "metadata": {},
   "outputs": [],
   "source": [
    "import requests\n",
    "import random"
   ]
  },
  {
   "cell_type": "code",
   "execution_count": 2,
   "metadata": {},
   "outputs": [],
   "source": [
    "req_types = ['year', 'math']"
   ]
  },
  {
   "cell_type": "code",
   "execution_count": 3,
   "metadata": {},
   "outputs": [
    {
     "name": "stdout",
     "output_type": "stream",
     "text": [
      "hist 17 is the year that an earthquake in Anatolia destroys the city of Sardis.\n",
      "math 45 is a triangular number, a hexagonal and 16-gonal number, a Kaprekar number, and a Harshad number.\n",
      "math 999 is an unremarkable number.\n",
      "math 1883 is the number of conjugacy classes of the alternating group A_{28}.\n"
     ]
    }
   ],
   "source": [
    "for number in [17, 45, 999, 1883]:\n",
    "    type_index = random.randint(0, 1)\n",
    "    req_type = req_types[type_index]\n",
    "    url = f'http://numbersapi.com/{number}/{req_type}'\n",
    "    result = requests.get(url)\n",
    "    \n",
    "    if req_type == 'year':\n",
    "        req_type = 'hist'\n",
    "    else:\n",
    "        req_type = 'math'\n",
    "    \n",
    "    print(req_type, result.text)"
   ]
  },
  {
   "cell_type": "code",
   "execution_count": null,
   "metadata": {},
   "outputs": [],
   "source": []
  }
 ],
 "metadata": {
  "kernelspec": {
   "display_name": "Python 3",
   "language": "python",
   "name": "python3"
  },
  "language_info": {
   "codemirror_mode": {
    "name": "ipython",
    "version": 3
   },
   "file_extension": ".py",
   "mimetype": "text/x-python",
   "name": "python",
   "nbconvert_exporter": "python",
   "pygments_lexer": "ipython3",
   "version": "3.7.7"
  }
 },
 "nbformat": 4,
 "nbformat_minor": 2
}
