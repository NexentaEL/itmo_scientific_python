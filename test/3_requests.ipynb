{
 "cells": [
  {
   "cell_type": "code",
   "execution_count": 1,
   "metadata": {},
   "outputs": [],
   "source": [
    "import requests"
   ]
  },
  {
   "cell_type": "code",
   "execution_count": 2,
   "metadata": {},
   "outputs": [
    {
     "name": "stdout",
     "output_type": "stream",
     "text": [
      "17 is the number of the raka'ahs that Muslims perform during Salah on a daily basis.\n",
      "45 is the sapphire wedding anniversary in years of marriage.\n",
      "999 is a boring number.\n",
      "1883 is a boring number.\n"
     ]
    }
   ],
   "source": [
    "for number in [17, 45, 999, 1883]:\n",
    "    url = f'http://numbersapi.com/{number}'\n",
    "    result = requests.get(url)\n",
    "    print(result.text)"
   ]
  }
 ],
 "metadata": {
  "kernelspec": {
   "display_name": "Python 3",
   "language": "python",
   "name": "python3"
  },
  "language_info": {
   "codemirror_mode": {
    "name": "ipython",
    "version": 3
   },
   "file_extension": ".py",
   "mimetype": "text/x-python",
   "name": "python",
   "nbconvert_exporter": "python",
   "pygments_lexer": "ipython3",
   "version": "3.7.7"
  }
 },
 "nbformat": 4,
 "nbformat_minor": 2
}
